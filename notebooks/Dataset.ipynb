{
 "cells": [
  {
   "cell_type": "markdown",
   "metadata": {},
   "source": [
    "# Generate a data set\n",
    "\n",
    "The dataset $\\mathcal{D}$ is generated and stored in a pickle so it can be reused several times.\n",
    "\n",
    "The dimension (i.e. number of features) of the dataset is $d=2$, as to easily visualize it.\n",
    "\n",
    "The training set $\\mathcal{X} = [-1, 1] \\times [-1, 1]$ with uniform probability of picking each $x \\in \\mathcal{X}$\n",
    "\n",
    "In each run, a random line is chosen as the target function $f$. This is done by choosing two random, uniformly distributed points in $[-1, 1] \\times [-1, 1]$ and taking the line passing through them. One side of this line maps to $-1$, while the other maps to $1$.\n",
    "\n",
    "Next, the input points $x_n$ are chosen uniformly from $\\mathcal{X}$ and the target function is evaluated on each $x_n$ to get the corresponding outputs $y_n$."
   ]
  },
  {
   "cell_type": "code",
   "execution_count": 1,
   "metadata": {
    "collapsed": true
   },
   "outputs": [],
   "source": [
    "import numpy as np\n",
    "import matplotlib.pyplot as plt\n",
    "import pickle\n",
    "%matplotlib inline"
   ]
  },
  {
   "cell_type": "code",
   "execution_count": 2,
   "metadata": {
    "collapsed": false
   },
   "outputs": [],
   "source": [
    "#Generate random points\n",
    "#These have the shape (1000,2)\n",
    "#Meaning each row is a point\n",
    "#Since the seed is fixed, \n",
    "#these points will always be the same.\n",
    "\n",
    "np.random.seed(123456789)\n",
    "X = np.random.uniform(-1, 1, (1000, 2))"
   ]
  },
  {
   "cell_type": "code",
   "execution_count": 3,
   "metadata": {
    "collapsed": true
   },
   "outputs": [],
   "source": [
    "#This data set is saved so it can be used later on.\n",
    "\n",
    "with open('dataset.pickle', 'wb') as f:\n",
    "    pickle.dump(X, f, pickle.HIGHEST_PROTOCOL)"
   ]
  },
  {
   "cell_type": "code",
   "execution_count": 4,
   "metadata": {
    "collapsed": false
   },
   "outputs": [],
   "source": [
    "p = np.random.uniform(-1, 1, (2,2))"
   ]
  },
  {
   "cell_type": "code",
   "execution_count": 7,
   "metadata": {
    "collapsed": true
   },
   "outputs": [],
   "source": [
    "x = [[z,1] for z in p[:,0]]\n",
    "y = p[:,1]\n",
    "a,b = np.linalg.solve(x,y)\n",
    "    \n",
    "def f(x):\n",
    "    return a*x+b"
   ]
  },
  {
   "cell_type": "code",
   "execution_count": 8,
   "metadata": {
    "collapsed": false
   },
   "outputs": [],
   "source": [
    "#Determine for each x in X whether it is above or below the line f\n",
    "#This can be done using y=ax+b\n",
    "\n",
    "Y = []\n",
    "for x,y in X:\n",
    "    y_line = f(x)\n",
    "    if y <= y_line:\n",
    "        Y.append(-1)\n",
    "    else:\n",
    "        Y.append(1)\n",
    "Y = np.array(Y)"
   ]
  },
  {
   "cell_type": "code",
   "execution_count": 9,
   "metadata": {
    "collapsed": false
   },
   "outputs": [
    {
     "data": {
      "image/png": "[encoded data removed]",
      "text/plain": [
       "<matplotlib.figure.Figure at 0x108173cf8>"
      ]
     },
     "metadata": {},
     "output_type": "display_data"
    }
   ],
   "source": [
    "#Plot the results\n",
    "\n",
    "plt.figure()\n",
    "plt.xlim(-1,1)\n",
    "plt.ylim(-1,1)\n",
    "plt.plot(p[:,0], p[:,1], color='k', marker='o')\n",
    "for i in range(len(X)):\n",
    "    point = X[i]\n",
    "    sign = Y[i]\n",
    "    if sign > 0:\n",
    "        plt.scatter(point[0], point[1], color='r', marker='2')\n",
    "    else:\n",
    "        plt.scatter(point[0], point[1], color='b', marker='1')\n",
    "plt.show()"
   ]
  },
  {
   "cell_type": "code",
   "execution_count": null,
   "metadata": {
    "collapsed": true
   },
   "outputs": [],
   "source": []
  }
 ],
 "metadata": {
  "kernelspec": {
   "display_name": "Python 3",
   "language": "python",
   "name": "python3"
  },
  "language_info": {
   "codemirror_mode": {
    "name": "ipython",
    "version": 3
   },
   "file_extension": ".py",
   "mimetype": "text/x-python",
   "name": "python",
   "nbconvert_exporter": "python",
   "pygments_lexer": "ipython3",
   "version": "3.5.0"
  }
 },
 "nbformat": 4,
 "nbformat_minor": 0
}
