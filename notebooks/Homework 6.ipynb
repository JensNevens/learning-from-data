{
 "cells": [
  {
   "cell_type": "markdown",
   "metadata": {},
   "source": [
    "# Overfitting and Regularization with Weight Decay\n",
    "\n",
    "## Learning from Data: Homework 6\n",
    "\n",
    "### Questions 2, 3, 4, 5, 6"
   ]
  },
  {
   "cell_type": "code",
   "execution_count": 1,
   "metadata": {
    "collapsed": true
   },
   "outputs": [],
   "source": [
    "import numpy as np\n",
    "import pandas as pd\n",
    "import matplotlib.pyplot as plt"
   ]
  },
  {
   "cell_type": "code",
   "execution_count": 2,
   "metadata": {
    "collapsed": false
   },
   "outputs": [],
   "source": [
    "train = pd.read_table(\"in.dta\", sep=\" +\", header=None, engine='python')\n",
    "train.columns = [\"x1\", \"x2\", \"y\"]\n",
    "test = pd.read_table(\"out.dta\", sep=\" +\", header=None, engine='python')\n",
    "test.columns = [\"x1\", \"x2\", \"y\"]"
   ]
  },
  {
   "cell_type": "code",
   "execution_count": 3,
   "metadata": {
    "collapsed": true
   },
   "outputs": [],
   "source": [
    "for df in [train, test]:\n",
    "    df['one'] = 1\n",
    "    df['x1^2'] = df['x1']**2\n",
    "    df['x2^2'] = df['x2']**2\n",
    "    df['x1x2'] = df['x1']*df['x2']\n",
    "    df['|x1-x2|'] = np.abs(df['x1'] - df['x2'])\n",
    "    df['|x1+x2|'] = np.abs(df['x1'] + df['x2'])\n",
    "    df.reindex(columns = ['one', 'x1', 'x2', 'x1^2', 'x2^2', 'x1x2', '|x1-x2|', '|x1+x2|'])"
   ]
  },
  {
   "cell_type": "code",
   "execution_count": 4,
   "metadata": {
    "collapsed": false
   },
   "outputs": [],
   "source": [
    "train = train.reindex(columns = ['one', 'x1', 'x2', 'x1^2', 'x2^2', 'x1x2', '|x1-x2|', '|x1+x2|', 'y'])\n",
    "test = test.reindex(columns = ['one', 'x1', 'x2', 'x1^2', 'x2^2', 'x1x2', '|x1-x2|', '|x1+x2|', 'y'])"
   ]
  },
  {
   "cell_type": "code",
   "execution_count": 5,
   "metadata": {
    "collapsed": false
   },
   "outputs": [],
   "source": [
    "def lin_regression(Xs, Ys):\n",
    "    # Dot product of pseudo-inverse of X and Y\n",
    "    return np.dot(np.linalg.pinv(Xs), Ys)\n",
    "\n",
    "# One step learning: determine the weights\n",
    "w = lin_regression(train.ix[:,:-1], train['y'])"
   ]
  },
  {
   "cell_type": "code",
   "execution_count": 6,
   "metadata": {
    "collapsed": false
   },
   "outputs": [],
   "source": [
    "# Classification error: Compute outputs with current w\n",
    "# and compare to real outputs\n",
    "def class_error(Xs, Ys, w):\n",
    "    Y_est = np.sign(np.dot(Xs, w))\n",
    "    return np.mean(Y_est != Ys)"
   ]
  },
  {
   "cell_type": "code",
   "execution_count": 7,
   "metadata": {
    "collapsed": false
   },
   "outputs": [
    {
     "data": {
      "text/plain": [
       "0.028571428571428571"
      ]
     },
     "execution_count": 7,
     "metadata": {},
     "output_type": "execute_result"
    }
   ],
   "source": [
    "# Classification error on training set\n",
    "class_error(train.ix[:,:-1], train['y'], w)"
   ]
  },
  {
   "cell_type": "code",
   "execution_count": 8,
   "metadata": {
    "collapsed": false
   },
   "outputs": [
    {
     "data": {
      "text/plain": [
       "0.084000000000000005"
      ]
     },
     "execution_count": 8,
     "metadata": {},
     "output_type": "execute_result"
    }
   ],
   "source": [
    "# Classification error on test set\n",
    "class_error(test.ix[:,:-1], test['y'], w)"
   ]
  },
  {
   "cell_type": "code",
   "execution_count": 9,
   "metadata": {
    "collapsed": false
   },
   "outputs": [],
   "source": [
    "# Regularized linear regression\n",
    "def regul_lin_regression(Xs, Ys, k):\n",
    "    l = 10**k\n",
    "    A = np.linalg.inv(np.dot(Xs.T, Xs) + np.eye(Xs.shape[1])*l)\n",
    "    B = np.dot(Xs.T, Ys)\n",
    "    return np.dot(A,B)\n",
    "\n",
    "# Weights with lambda = -3\n",
    "w_neg_k = regul_lin_regression(train.ix[:,:-1], train['y'], -3)"
   ]
  },
  {
   "cell_type": "code",
   "execution_count": 10,
   "metadata": {
    "collapsed": false
   },
   "outputs": [
    {
     "data": {
      "text/plain": [
       "0.028571428571428571"
      ]
     },
     "execution_count": 10,
     "metadata": {},
     "output_type": "execute_result"
    }
   ],
   "source": [
    "#Classification error on train set\n",
    "#with lambda = -3\n",
    "class_error(train.ix[:,:-1], train['y'], w_neg_k)"
   ]
  },
  {
   "cell_type": "code",
   "execution_count": 11,
   "metadata": {
    "collapsed": false
   },
   "outputs": [
    {
     "data": {
      "text/plain": [
       "0.080000000000000002"
      ]
     },
     "execution_count": 11,
     "metadata": {},
     "output_type": "execute_result"
    }
   ],
   "source": [
    "#Classification error on test set\n",
    "#with lambda = -3\n",
    "class_error(test.ix[:,:-1], test['y'], w_neg_k)"
   ]
  },
  {
   "cell_type": "code",
   "execution_count": 12,
   "metadata": {
    "collapsed": true
   },
   "outputs": [],
   "source": [
    "# Weights with lambda = 3\n",
    "w_pos_k = regul_lin_regression(train.ix[:,:-1], train['y'], 3)"
   ]
  },
  {
   "cell_type": "code",
   "execution_count": 13,
   "metadata": {
    "collapsed": false
   },
   "outputs": [
    {
     "data": {
      "text/plain": [
       "0.37142857142857144"
      ]
     },
     "execution_count": 13,
     "metadata": {},
     "output_type": "execute_result"
    }
   ],
   "source": [
    "#Classification error on train set\n",
    "#with lambda = 3\n",
    "class_error(train.ix[:,:-1], train['y'], w_pos_k)"
   ]
  },
  {
   "cell_type": "code",
   "execution_count": 14,
   "metadata": {
    "collapsed": false
   },
   "outputs": [
    {
     "data": {
      "text/plain": [
       "0.436"
      ]
     },
     "execution_count": 14,
     "metadata": {},
     "output_type": "execute_result"
    }
   ],
   "source": [
    "#Classification error on test set\n",
    "#with lambda = 3\n",
    "class_error(test.ix[:,:-1], test['y'], w_pos_k)"
   ]
  },
  {
   "cell_type": "code",
   "execution_count": 15,
   "metadata": {
    "collapsed": true
   },
   "outputs": [],
   "source": [
    "# Find minimum E_out\n",
    "def min_E_out(ks):\n",
    "    errors = np.zeros(len(ks))\n",
    "    for i,k in enumerate(ks):\n",
    "        w_est = regul_lin_regression(train.ix[:, :-1], train['y'], k)\n",
    "        error = class_error(test.ix[:,:-1], test['y'], w_est)\n",
    "        errors[i] = error   \n",
    "    min_k = np.argmin(errors)\n",
    "    return (errors, errors[min_k], ks[min_k])"
   ]
  },
  {
   "cell_type": "code",
   "execution_count": 16,
   "metadata": {
    "collapsed": false
   },
   "outputs": [
    {
     "data": {
      "text/plain": [
       "(array([ 0.228,  0.124,  0.092,  0.056,  0.228]), 0.056000000000000001, -1)"
      ]
     },
     "execution_count": 16,
     "metadata": {},
     "output_type": "execute_result"
    }
   ],
   "source": [
    "# Vary k over [2,1,0,-1,-2]\n",
    "min_E_out([2,1,0,-1,2])"
   ]
  },
  {
   "cell_type": "code",
   "execution_count": 17,
   "metadata": {
    "collapsed": false
   },
   "outputs": [
    {
     "data": {
      "text/plain": [
       "(array([ 0.084,  0.084,  0.084,  0.084,  0.084,  0.084,  0.084,  0.08 ,\n",
       "         0.084,  0.056,  0.092,  0.124,  0.228,  0.436,  0.452,  0.456,\n",
       "         0.456,  0.456,  0.456,  0.456,  0.456]), 0.056000000000000001, -1)"
      ]
     },
     "execution_count": 17,
     "metadata": {},
     "output_type": "execute_result"
    }
   ],
   "source": [
    "# Vary k over range [-10, 10]\n",
    "min_E_out(np.arange(-10,11))"
   ]
  },
  {
   "cell_type": "code",
   "execution_count": null,
   "metadata": {
    "collapsed": true
   },
   "outputs": [],
   "source": []
  }
 ],
 "metadata": {
  "kernelspec": {
   "display_name": "Python 3",
   "language": "python",
   "name": "python3"
  },
  "language_info": {
   "codemirror_mode": {
    "name": "ipython",
    "version": 3
   },
   "file_extension": ".py",
   "mimetype": "text/x-python",
   "name": "python",
   "nbconvert_exporter": "python",
   "pygments_lexer": "ipython3",
   "version": "3.5.0"
  }
 },
 "nbformat": 4,
 "nbformat_minor": 0
}
