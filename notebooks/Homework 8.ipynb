{
 "cells": [
  {
   "cell_type": "markdown",
   "metadata": {},
   "source": [
    "# Cross Validation and RBF Kernel\n",
    "\n",
    "## Learning from Data: Homework 8\n",
    "\n",
    "For this homework, the library _libsvm_ is needed. The easiest way to install this on _Mac OS X_ is using [_Homebrew_](http://brew.sh/) with the following command: `brew install libsvm`.\n",
    "\n",
    "The following questions from this homework will be answered and its solutions will be explained: questions 7, 8, 9 and 10."
   ]
  },
  {
   "cell_type": "markdown",
   "metadata": {},
   "source": [
    "## Polynomial kernel\n",
    "In the first 2 questions, we need to experiment with 10-fold cross-validation using a polynomial kernel. We will first explain the workings of support vector machines, after which we will look at the use of a polynomial kernel. Afterwards, we see why cross-validation is useful and how it works.\n",
    "\n",
    "The purpose of support vector machines is to find dichotomies with border margins that are as large as possible.\n",
    "As we saw in the lectures, we first need the distance between the hyperplane $w^Tx=0$ and the nearest point to that hyperplane, in which $w$ are weights and $x$ are data points. This was found to be $\\frac{1}{\\|w\\|}$.\n",
    "This is the value that needs to be maximized in order to get a margin as big as possible. This can be restated by saying that we need to minimize the value $\\frac{1}{2}w^\\intercal w$. This is allowed because minimizing this quantity maximizes the original quantity. <br />\n",
    "The optimization should also be subject to $|w^\\intercal x_n + b| \\geq 1$ (in which $b$ is the bias) for $n=1,2,\\dots,N$, because the distance from the separating hyperplane to its nearest point should be normalized to be 1. Eventually, we get the following Lagrangian formulation which incorporates both the quantity to minimize and the constraint:\n",
    "$$\n",
    "\\mathcal{L}(\\alpha) = \\sum_{n=1}^N \\alpha_n - \\frac{1}{2} \\sum_{n=1}^N \\sum_{m=1}^N y_ny_m \\alpha_n\\alpha_m x_n^\\intercal x_m\n",
    "$$\n",
    "In which $y_n$ and $y_m$ are target values and $\\alpha_n$ and $\\alpha_m$ are Lagrange multipliers.\n",
    "Using quadratic programming, we eventually become $\\alpha=\\alpha_1, \\alpha_2, \\dots, \\alpha_N$, which maximizes $\\frac{1}{2}w^\\intercal w$, while taking into account the constraint. When $\\alpha_n > 0$, we say that the corresponding data point $x_n$ is a support vector. The hyperplane that separates the points is completely determined by those support vectors and must lie between the support vectors of different target values.\n",
    "\n",
    "For data which is not linearly separable, a nonlinear transform is needed, in which a transformation (using the function $\\phi$) of the data is done from the $\\mathcal{X}$ to the $\\mathcal{Z}$ space. The resulting data in this $\\mathcal{Z}$ is then linearly separable.\n",
    "\n",
    "\n",
    "In a polynomial kernel, we use a nonlinear transformation function $\\phi: \\mathcal{X} \\rightarrow \\mathcal{Z}$ that is a polynomial of a certain order $Q$.\n",
    "It is possible to do this nonlinear transformation first and then apply quadratic programming using the transformed data to obtain our solution. This can however be infeasible when we have a high-order $\\phi$ function, because transforming all the data is computationally expensive. When we look at the Lagrange formulation however, we see that the training data is only used in a dot product of 2 such data points: $x_n^\\intercal x_m$. Thus, we actually only need the result of this dot product in the $\\mathcal{Z}$ space. The transformed data is not used in any other way. A function that takes 2 data points in the $\\mathcal{X}$ space and computes their inner product in the $\\mathcal{Z}$ space is called a kernel function. In a polynomial kernel, this function is $K(x,x')=(1+x^\\intercal x')^Q$. We can thus replace the inner product in the Lagrange formulation with this kernel function.\n",
    "\n",
    "\n",
    "There are however cases where the data is slightly non-separable but not so much that a non-linear transformation is needed, or the that is still non-separable after a transformation. As a result, some points violate the margin ($|w^\\intercal x_n + b| \\geq 1$ is violated). The total violation was found to be $\\sum_{n=1}^N \\xi_n$. An order of this value (the value $C$) is added to the value that needs to be minimized using quadratic programming in order to allow some errors. The higher $C$, the more errors are allowed in separating the data. Intuitively, we see that increasing $C$ makes the decision surface more smooth and simple. A margin that uses this $C$ is called a soft margin.\n",
    "\n",
    "\n",
    "For the first 2 exercises, we use cross validation. In the slides, we first saw that using small partition of the training set to validate the learned hypothesis leads to a bad estimate because the points taken out of the training set ($K$ points out of $N$) for validation may not be representative for estimating the out-of-sample error, $E_{out}$. When, we take a large partition however, we get again an accurate validation error ($E_{val}$), but because the model is learned from a small number of data points, we have a bigger chance of getting a bad model for the data. Thus, we need to balance $K$.\n",
    "\n",
    "The optimal situation however would be to have $K$ both small and large, thus getting a good model and a good estimation of $E_{out}$. To achieve this, we use points one time for validating, and other times for training a model.\n",
    "We separate the $N$ datapoints into a number of folds, $F$. These number of folds could be as large as $N$ itself, in which $N$ iterations will take place and when only one point is used for validation.\n",
    "In cross-validation, $K=\\frac{N}{F}$, but these K points differ each time as a different fold is used for validation.\n",
    "The total cross-validation error will then be $E_{cv}=\\frac{1}{F}\\sum_{n=1}^F e_n$, in which $e_n=E_{val}(g_n^-)$ and $g_n^-$ is the model trained on $N-K$ datapoints."
   ]
  },
  {
   "cell_type": "markdown",
   "metadata": {},
   "source": [
    "In all the exercises, we only take data with as target value (digit) 1 or 5 and replace this target values by respectively -1 and 1.\n",
    "After listing all the possible values on $C$ that need to be used with the support vector machine, we do a number of runs. In each run, we separate the training data randomly into 10 folds. Then, for each value of $C$, we iterate 10 times. Each time take a different fold on which the classifier will be tested and the other 9 folds to train the classifier. This classifier is made using a support vector machine which is given the current value of $C$."
   ]
  },
  {
   "cell_type": "code",
   "execution_count": 14,
   "metadata": {
    "collapsed": false
   },
   "outputs": [],
   "source": [
    "from svmutil import *\n",
    "import pandas as pd\n",
    "from sklearn.cross_validation import KFold\n",
    "from collections import Counter\n",
    "import numpy as np\n",
    "import matplotlib.pyplot as plt\n",
    "import operator\n",
    "pd.options.mode.chained_assignment = None\n",
    "%matplotlib inline"
   ]
  },
  {
   "cell_type": "code",
   "execution_count": 2,
   "metadata": {
    "collapsed": false
   },
   "outputs": [],
   "source": [
    "train = pd.read_table(\"features.train\", sep=\" +\", header=None, engine='python')\n",
    "train.columns = [\"digit\", \"intensity\", \"symmetry\"]\n",
    "test = pd.read_table(\"features.test\", sep=\" +\", header=None, engine='python')\n",
    "test.columns = [\"digit\", \"intensity\", \"symmetry\"]"
   ]
  },
  {
   "cell_type": "code",
   "execution_count": 3,
   "metadata": {
    "collapsed": false
   },
   "outputs": [
    {
     "data": {
      "text/html": [
       "<div>\n",
       "<table border=\"1\" class=\"dataframe\">\n",
       "  <thead>\n",
       "    <tr style=\"text-align: right;\">\n",
       "      <th></th>\n",
       "      <th>digit</th>\n",
       "      <th>intensity</th>\n",
       "      <th>symmetry</th>\n",
       "    </tr>\n",
       "  </thead>\n",
       "  <tbody>\n",
       "    <tr>\n",
       "      <th>0</th>\n",
       "      <td>6</td>\n",
       "      <td>0.341092</td>\n",
       "      <td>-4.528937</td>\n",
       "    </tr>\n",
       "    <tr>\n",
       "      <th>1</th>\n",
       "      <td>5</td>\n",
       "      <td>0.444131</td>\n",
       "      <td>-5.496812</td>\n",
       "    </tr>\n",
       "    <tr>\n",
       "      <th>2</th>\n",
       "      <td>4</td>\n",
       "      <td>0.231002</td>\n",
       "      <td>-2.886750</td>\n",
       "    </tr>\n",
       "    <tr>\n",
       "      <th>3</th>\n",
       "      <td>7</td>\n",
       "      <td>0.200275</td>\n",
       "      <td>-3.534375</td>\n",
       "    </tr>\n",
       "    <tr>\n",
       "      <th>4</th>\n",
       "      <td>3</td>\n",
       "      <td>0.291936</td>\n",
       "      <td>-4.352062</td>\n",
       "    </tr>\n",
       "  </tbody>\n",
       "</table>\n",
       "</div>"
      ],
      "text/plain": [
       "   digit  intensity  symmetry\n",
       "0      6   0.341092 -4.528937\n",
       "1      5   0.444131 -5.496812\n",
       "2      4   0.231002 -2.886750\n",
       "3      7   0.200275 -3.534375\n",
       "4      3   0.291936 -4.352062"
      ]
     },
     "execution_count": 3,
     "metadata": {},
     "output_type": "execute_result"
    }
   ],
   "source": [
    "train.head()"
   ]
  },
  {
   "cell_type": "code",
   "execution_count": 4,
   "metadata": {
    "collapsed": false
   },
   "outputs": [],
   "source": [
    "filtered = train[(train.digit == 1) | (train.digit == 5)]\n",
    "filtered.loc[filtered.digit == 1, \"digit\"] = -1\n",
    "filtered.loc[filtered.digit == 5, \"digit\"] = 1\n",
    "filtered = filtered.reset_index(drop=True)"
   ]
  },
  {
   "cell_type": "code",
   "execution_count": 5,
   "metadata": {
    "collapsed": false
   },
   "outputs": [
    {
     "data": {
      "text/html": [
       "<div>\n",
       "<table border=\"1\" class=\"dataframe\">\n",
       "  <thead>\n",
       "    <tr style=\"text-align: right;\">\n",
       "      <th></th>\n",
       "      <th>digit</th>\n",
       "      <th>intensity</th>\n",
       "      <th>symmetry</th>\n",
       "    </tr>\n",
       "  </thead>\n",
       "  <tbody>\n",
       "    <tr>\n",
       "      <th>0</th>\n",
       "      <td>1</td>\n",
       "      <td>0.444131</td>\n",
       "      <td>-5.496812</td>\n",
       "    </tr>\n",
       "    <tr>\n",
       "      <th>1</th>\n",
       "      <td>-1</td>\n",
       "      <td>0.123043</td>\n",
       "      <td>-0.707875</td>\n",
       "    </tr>\n",
       "    <tr>\n",
       "      <th>2</th>\n",
       "      <td>-1</td>\n",
       "      <td>0.113859</td>\n",
       "      <td>-0.931375</td>\n",
       "    </tr>\n",
       "    <tr>\n",
       "      <th>3</th>\n",
       "      <td>-1</td>\n",
       "      <td>0.115371</td>\n",
       "      <td>-0.386000</td>\n",
       "    </tr>\n",
       "    <tr>\n",
       "      <th>4</th>\n",
       "      <td>-1</td>\n",
       "      <td>0.102281</td>\n",
       "      <td>-0.378812</td>\n",
       "    </tr>\n",
       "  </tbody>\n",
       "</table>\n",
       "</div>"
      ],
      "text/plain": [
       "   digit  intensity  symmetry\n",
       "0      1   0.444131 -5.496812\n",
       "1     -1   0.123043 -0.707875\n",
       "2     -1   0.113859 -0.931375\n",
       "3     -1   0.115371 -0.386000\n",
       "4     -1   0.102281 -0.378812"
      ]
     },
     "execution_count": 5,
     "metadata": {},
     "output_type": "execute_result"
    }
   ],
   "source": [
    "filtered.head()"
   ]
  },
  {
   "cell_type": "code",
   "execution_count": 6,
   "metadata": {
    "collapsed": false
   },
   "outputs": [],
   "source": [
    "possible_C = np.array([0.0001, 0.001, 0.01, 0.1, 1])\n",
    "runs = 100\n",
    "\n",
    "best_run_C = np.zeros(runs)\n",
    "C_val_errors = {c: np.zeros(runs) for c in possible_C}\n",
    "\n",
    "for run in range(runs):\n",
    "    kf = KFold(len(filtered), n_folds=10, shuffle=True)\n",
    "    C_errors = np.zeros(len(possible_C))\n",
    "    for i,C in enumerate(possible_C):\n",
    "        fold_errors = np.zeros(len(kf))\n",
    "        for j, index_pair in enumerate(kf):\n",
    "            train_index, val_index = index_pair\n",
    "            \n",
    "            train_fold = filtered.ix[train_index]\n",
    "            train_x = train_fold[[\"intensity\", \"symmetry\"]].values.tolist()\n",
    "            train_y = train_fold[\"digit\"].values.tolist()\n",
    "            \n",
    "            val_fold = filtered.ix[val_index]\n",
    "            val_x = val_fold[[\"intensity\", \"symmetry\"]].values.tolist()\n",
    "            val_y = val_fold[\"digit\"].values.tolist()\n",
    "            \n",
    "            m = svm_train(train_y, train_x, '-q -t 1 -d 2 -c {} -r 1 -g 1'.format(C))\n",
    "            p_label, p_acc, p_val = svm_predict(val_y, val_x, m, \"-q\")\n",
    "            fold_errors[j] = (100-p_acc[0])/100.\n",
    "            \n",
    "        mean_fold_error = np.mean(fold_errors)\n",
    "        C_val_errors[C][run] = mean_fold_error\n",
    "        C_errors[i] = mean_fold_error\n",
    "    best_run_C[run] = possible_C[np.argmin(C_errors)]"
   ]
  },
  {
   "cell_type": "markdown",
   "metadata": {},
   "source": [
    "### Question 7"
   ]
  },
  {
   "cell_type": "markdown",
   "metadata": {},
   "source": [
    "Consider the 1 versus 5 classifier with Q = 2. We use $E_{cv}$ to select $C \\in \\{0.0001, 0.001, 0.01, 0.1, 1\\}$. If there is a tie in $E_{cv}$ , select the smaller C . Within the 100 random runs, which of the following statements is correct?\n",
    "\n",
    "\n",
    "After training, the classifier is tested and the errors on the test fold are saved. Afterwards, we average all errors for specific $C$ values for each fold over all the runs. We then calculate which $C$ yielded the lowest error rate in each run. By then calculating which $C$ was the most number of times selected as the one with the lowest error rate, we know which $C$ value is the best."
   ]
  },
  {
   "cell_type": "code",
   "execution_count": 17,
   "metadata": {
    "collapsed": false
   },
   "outputs": [
    {
     "name": "stdout",
     "output_type": "stream",
     "text": [
      "Best C:  0.001\n"
     ]
    }
   ],
   "source": [
    "ctr = Counter(best_run_C)\n",
    "best_c = ctr.most_common(1)[0][0]\n",
    "print(\"Best C: \", best_c)"
   ]
  },
  {
   "cell_type": "code",
   "execution_count": 40,
   "metadata": {
    "collapsed": false
   },
   "outputs": [
    {
     "data": {
      "image/png": "[encoded data removed]",
      "text/plain": [
       "<matplotlib.figure.Figure at 0x1187c3550>"
      ]
     },
     "metadata": {},
     "output_type": "display_data"
    }
   ],
   "source": [
    "X = np.arange(len(ctr))\n",
    "sorted_ctr = sorted(ctr.items(), key=operator.itemgetter(0))\n",
    "keys = [t[0] for t in sorted_ctr]\n",
    "values = [t[1] for t in sorted_ctr]\n",
    "plt.bar(X, values, align='center', width=0.5, color=\"black\")\n",
    "plt.xticks(X, keys)\n",
    "ymax = max(values) + 1\n",
    "plt.ylim(0, ymax)\n",
    "plt.title(\"Number of times each C is selected as the best\")\n",
    "plt.xlabel(\"C value\")\n",
    "plt.ylabel(\"Times selected\")\n",
    "plt.show()"
   ]
  },
  {
   "cell_type": "markdown",
   "metadata": {},
   "source": [
    "The lowest cross validation error is achieved when $C=0.001$. As a result, our answer to this question is B."
   ]
  },
  {
   "cell_type": "markdown",
   "metadata": {},
   "source": [
    "### Question 8\n",
    "\n",
    "Again, consider the 1 versus 5 classifier with $Q = 2$. For the winning selection\n",
    "in the previous problem, the average value of $E_{cv}$ over the 100 runs is closest to...\n",
    "\n",
    "In this question, we need to report the error of the results using the best C value. As already saved this in order to calculate which C yielded the best results, reporting this value is easy."
   ]
  },
  {
   "cell_type": "code",
   "execution_count": 20,
   "metadata": {
    "collapsed": false
   },
   "outputs": [
    {
     "name": "stdout",
     "output_type": "stream",
     "text": [
      "Cross validation error when using C= 0.001 :  0.00477266046056\n"
     ]
    }
   ],
   "source": [
    "print(\"Cross validation error when using C=\", best_c, \": \", np.mean(C_val_errors[best_c]))"
   ]
  },
  {
   "cell_type": "markdown",
   "metadata": {},
   "source": [
    "The achieved cross validation error is closest to $0.005$, which means that our answer is C."
   ]
  },
  {
   "cell_type": "markdown",
   "metadata": {},
   "source": [
    "## RBF kernel\n",
    "For the next questions, a radial basis function (RBF) kernel is used. This kernel is of the following form:\n",
    "$$\n",
    "K(x_n,x_m)=e^{-\\gamma\\|x_n-x_m\\|^2}\n",
    "$$\n",
    "Here, $x_n$ and $x_m$ are again data points. Besides the different kernel, this approach is the same as with the support vector machine using the polynomial kernel which was explained earlier. $\\gamma$ is a parameter passed to the algorithm and influences the variance of the obtained function. Each data point has an influence on the hypothesis based on its radial distance $\\|x-x_n\\|$. Intuitively, this means that nearby points have more influence than data points that are farther away. A small $\\gamma$ means that a single data point has a lot of influence and leads to low bias and high variance models, while a high $\\gamma$ leads to less influence and will give you a higher bias and lower variance.\n",
    "\n",
    "Notice that the corresponding non-linear transform ($\\phi$) of the kernel generates infinite-dimensional data points. As such, first computing the transform and then applying the inner product of 2 points would not be possible.\n",
    "\n",
    "For the following questions, we always use $\\gamma=1$ and we use the soft margin approach which was explained earlier. The experiments then involve trying different values for C."
   ]
  },
  {
   "cell_type": "code",
   "execution_count": 21,
   "metadata": {
    "collapsed": false
   },
   "outputs": [],
   "source": [
    "filtered_test = test[(test.digit == 1) | (test.digit == 5)]\n",
    "filtered_test[\"digit\"].replace(1,float(-1),inplace=True)\n",
    "filtered_test[\"digit\"].replace(5,float(1),inplace=True)\n",
    "filtered_test = filtered_test.reset_index(drop=True)"
   ]
  },
  {
   "cell_type": "code",
   "execution_count": 22,
   "metadata": {
    "collapsed": false
   },
   "outputs": [],
   "source": [
    "possible_C = [0.01, 1, 100, 10**4, 10**6]\n",
    "E_ins = np.zeros(len(possible_C))\n",
    "E_outs = np.zeros(len(possible_C))\n",
    "\n",
    "for i,C in enumerate(possible_C):\n",
    "    train_x = filtered[[\"intensity\", \"symmetry\"]].values.tolist()\n",
    "    train_y = filtered[\"digit\"].values.tolist()\n",
    "    \n",
    "    test_x = filtered_test[[\"intensity\", \"symmetry\"]].values.tolist()\n",
    "    test_y = filtered_test[\"digit\"].values.tolist()\n",
    "    \n",
    "    m = svm_train(train_y, train_x, '-q -t 2 -d 2 -c {} -g 1'.format(C))\n",
    "    train_label, train_acc, train_val = svm_predict(train_y, train_x, m, \"-q\")\n",
    "    test_label, test_acc, test_val = svm_predict(test_y, test_x, m, \"-q\")\n",
    "    \n",
    "    E_ins[i] = (100-train_acc[0])/100.\n",
    "    E_outs[i] = (100-test_acc[0])/100."
   ]
  },
  {
   "cell_type": "markdown",
   "metadata": {},
   "source": [
    "### Question 9\n",
    "\n",
    "Which of the following values of C results in the lowest $E_{in}$?\n",
    "\n",
    "For this question, we had to report the C value which yielded the lowest in-sample error. To do this, we train for each value of C the SVM with that particular C on all data (of digits 1 and 5) and use this classifier on the training and test data (of digits 1 and 5). The errors on the training data and test data are then saved to separate lists.\n",
    "We then report the value of C with the lowest corresponding error in the list of in-sample errors."
   ]
  },
  {
   "cell_type": "code",
   "execution_count": 25,
   "metadata": {
    "collapsed": false
   },
   "outputs": [
    {
     "data": {
      "text/plain": [
       "1000000"
      ]
     },
     "execution_count": 25,
     "metadata": {},
     "output_type": "execute_result"
    }
   ],
   "source": [
    "possible_C[np.argmin(E_ins)]"
   ]
  },
  {
   "cell_type": "code",
   "execution_count": 37,
   "metadata": {
    "collapsed": false
   },
   "outputs": [
    {
     "data": {
      "image/png": "[encoded data removed]",
      "text/plain": [
       "<matplotlib.figure.Figure at 0x118629208>"
      ]
     },
     "metadata": {},
     "output_type": "display_data"
    }
   ],
   "source": [
    "X = np.arange(len(E_ins))\n",
    "plt.bar(X, E_ins, align='center', width=0.5, color=\"black\")\n",
    "plt.xticks(X, possible_C)\n",
    "ymax = max(E_ins) + 0.001\n",
    "plt.ylim(0, ymax)\n",
    "plt.title(\"In-sample error for different values of C\")\n",
    "plt.xlabel(\"C value\")\n",
    "plt.ylabel(\"Error\")\n",
    "plt.show()"
   ]
  },
  {
   "cell_type": "markdown",
   "metadata": {},
   "source": [
    "We see that we get the lowest in-sample error when $C=1000000$. This means that the answer to this question is E."
   ]
  },
  {
   "cell_type": "markdown",
   "metadata": {},
   "source": [
    "### Question 10\n",
    "\n",
    "Which of the following values of C results in the lowest $E_{out}$?\n",
    "\n",
    "Here, we need to report the C value that gave us the lowest out-of-sample error. As already mentioned, the errors on the test data were already saved to a list. Thus, we now need to report the value of C with the lowest corresponding error in this list of out-of-sample errors"
   ]
  },
  {
   "cell_type": "code",
   "execution_count": 30,
   "metadata": {
    "collapsed": false
   },
   "outputs": [
    {
     "data": {
      "text/plain": [
       "100"
      ]
     },
     "execution_count": 30,
     "metadata": {},
     "output_type": "execute_result"
    }
   ],
   "source": [
    "possible_C[np.argmin(E_outs)]"
   ]
  },
  {
   "cell_type": "code",
   "execution_count": 39,
   "metadata": {
    "collapsed": false
   },
   "outputs": [
    {
     "data": {
      "image/png": "[encoded data removed]",
      "text/plain": [
       "<matplotlib.figure.Figure at 0x1186302b0>"
      ]
     },
     "metadata": {},
     "output_type": "display_data"
    }
   ],
   "source": [
    "X = np.arange(len(E_outs))\n",
    "plt.bar(X, E_outs, align='center', width=0.5, color=\"black\")\n",
    "plt.xticks(X, possible_C)\n",
    "ymax = max(E_outs) + 0.001\n",
    "plt.ylim(0, ymax)\n",
    "plt.title(\"Out-of-sample error for different values of C\")\n",
    "plt.xlabel(\"C value\")\n",
    "plt.ylabel(\"Error\")\n",
    "plt.show()"
   ]
  },
  {
   "cell_type": "markdown",
   "metadata": {
    "collapsed": true
   },
   "source": [
    "The lowest out-of-sample error is achieved when $C=100$. This is equal to the value of answer C."
   ]
  },
  {
   "cell_type": "code",
   "execution_count": null,
   "metadata": {
    "collapsed": true
   },
   "outputs": [],
   "source": []
  }
 ],
 "metadata": {
  "kernelspec": {
   "display_name": "Python 3",
   "language": "python",
   "name": "python3"
  },
  "language_info": {
   "codemirror_mode": {
    "name": "ipython",
    "version": 3
   },
   "file_extension": ".py",
   "mimetype": "text/x-python",
   "name": "python",
   "nbconvert_exporter": "python",
   "pygments_lexer": "ipython3",
   "version": "3.5.1"
  }
 },
 "nbformat": 4,
 "nbformat_minor": 0
}
