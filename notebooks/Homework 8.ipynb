{
 "cells": [
  {
   "cell_type": "markdown",
   "metadata": {},
   "source": [
    "# Homework 8\n",
    "For this homework, _libsvm_ is needed. The easiest way to install this on _Mac OS X_ is using _Homebrew_ with the following command: `brew install libsvm`.\n",
    "\n",
    "From this homework: questions 7, 8, 9 and 10 will be answered"
   ]
  },
  {
   "cell_type": "code",
   "execution_count": 136,
   "metadata": {
    "collapsed": false
   },
   "outputs": [],
   "source": [
    "from svmutil import *\n",
    "import pandas as pd\n",
    "from sklearn.cross_validation import KFold\n",
    "from collections import Counter\n",
    "import numpy as np"
   ]
  },
  {
   "cell_type": "code",
   "execution_count": 21,
   "metadata": {
    "collapsed": false
   },
   "outputs": [],
   "source": [
    "train = pd.read_table(\"features.train\", sep=\" +\", header=None, engine='python')\n",
    "train.columns = [\"digit\", \"intensity\", \"symmetry\"]\n",
    "test = pd.read_table(\"features.test\", sep=\" +\", header=None, engine='python')\n",
    "test.columns = [\"digit\", \"intensity\", \"symmetry\"]"
   ]
  },
  {
   "cell_type": "markdown",
   "metadata": {},
   "source": [
    "1-vs-5: Only keep data about the digits 1 and 5"
   ]
  },
  {
   "cell_type": "code",
   "execution_count": 127,
   "metadata": {
    "collapsed": false
   },
   "outputs": [
    {
     "name": "stderr",
     "output_type": "stream",
     "text": [
      "//anaconda/lib/python3.5/site-packages/pandas/core/generic.py:3117: SettingWithCopyWarning: \n",
      "A value is trying to be set on a copy of a slice from a DataFrame\n",
      "\n",
      "See the caveats in the documentation: http://pandas.pydata.org/pandas-docs/stable/indexing.html#indexing-view-versus-copy\n",
      "  self._update_inplace(new_data)\n"
     ]
    }
   ],
   "source": [
    "filtered = train[(train.digit == 1) | (train.digit == 5)]\n",
    "filtered[\"digit\"].replace(1,float(-1),inplace=True)\n",
    "filtered[\"digit\"].replace(5,float(1),inplace=True)\n",
    "filtered = filtered.reset_index(drop=True)"
   ]
  },
  {
   "cell_type": "code",
   "execution_count": 103,
   "metadata": {
    "collapsed": false
   },
   "outputs": [],
   "source": [
    "input = filtered[[\"intensity\", \"symmetry\"]]\n",
    "x=input.values.tolist()\n",
    "y=y.values.tolist()"
   ]
  },
  {
   "cell_type": "code",
   "execution_count": 105,
   "metadata": {
    "collapsed": false
   },
   "outputs": [
    {
     "name": "stdout",
     "output_type": "stream",
     "text": [
      "Cross Validation Accuracy = 99.5516%\n"
     ]
    }
   ],
   "source": [
    "m = svm_train(y, x, '-t 1 -d 2 -v 10')"
   ]
  },
  {
   "cell_type": "code",
   "execution_count": 195,
   "metadata": {
    "collapsed": false
   },
   "outputs": [],
   "source": [
    "possible_C = [0.0001, 0.001, 0.01, 0.1, 1]\n",
    "best_run_C = []\n",
    "C_val_errors = {c: [] for c in possible_C}\n",
    "for run in range(100):\n",
    "    kf = KFold(len(filtered), n_folds=10, shuffle=True)\n",
    "    C_errors = []\n",
    "    for C in possible_C:\n",
    "        fold_errors = []\n",
    "        for train_index, val_index in kf:\n",
    "            train_fold = filtered.ix[train_index]\n",
    "            train_x = train_fold[[\"intensity\", \"symmetry\"]].values.tolist()\n",
    "            train_y = train_fold[\"digit\"].values.tolist()\n",
    "            val_fold = filtered.ix[val_index]\n",
    "            val_x = val_fold[[\"intensity\", \"symmetry\"]].values.tolist()\n",
    "            val_y = val_fold[\"digit\"].values.tolist()\n",
    "            m = svm_train(train_y, train_x, '-q -t 1 -d 2 -c {}'.format(C))\n",
    "            p_label, p_acc, p_val = svm_predict(val_y, val_x, m, \"-q\")\n",
    "            fold_errors.append(100-p_acc[0])\n",
    "        mean_fold_error = np.mean(fold_errors)\n",
    "        C_val_errors[C].append(mean_fold_error)\n",
    "        C_errors.append(mean_fold_error)\n",
    "    best_run_C.append(possible_C[np.argmin(C_errors)])\n"
   ]
  },
  {
   "cell_type": "markdown",
   "metadata": {},
   "source": [
    "## Question 7"
   ]
  },
  {
   "cell_type": "code",
   "execution_count": 196,
   "metadata": {
    "collapsed": false
   },
   "outputs": [
    {
     "name": "stdout",
     "output_type": "stream",
     "text": [
      "Best C:  0.01\n"
     ]
    }
   ],
   "source": [
    "best_c = Counter(best_run_C).most_common(1)[0][0]\n",
    "print(\"Best C: \", best_c)"
   ]
  },
  {
   "cell_type": "markdown",
   "metadata": {},
   "source": [
    "## Question 8"
   ]
  },
  {
   "cell_type": "code",
   "execution_count": 197,
   "metadata": {
    "collapsed": false
   },
   "outputs": [
    {
     "name": "stdout",
     "output_type": "stream",
     "text": [
      "Cross validation error when using C= 0.01 :  0.449109913441\n"
     ]
    }
   ],
   "source": [
    "print(\"Cross validation error when using C=\", best_c, \": \", np.mean(C_val_errors[best_c]))"
   ]
  },
  {
   "cell_type": "code",
   "execution_count": null,
   "metadata": {
    "collapsed": true
   },
   "outputs": [],
   "source": []
  }
 ],
 "metadata": {
  "kernelspec": {
   "display_name": "Python 3",
   "language": "python",
   "name": "python3"
  },
  "language_info": {
   "codemirror_mode": {
    "name": "ipython",
    "version": 3
   },
   "file_extension": ".py",
   "mimetype": "text/x-python",
   "name": "python",
   "nbconvert_exporter": "python",
   "pygments_lexer": "ipython3",
   "version": "3.5.1"
  }
 },
 "nbformat": 4,
 "nbformat_minor": 0
}
