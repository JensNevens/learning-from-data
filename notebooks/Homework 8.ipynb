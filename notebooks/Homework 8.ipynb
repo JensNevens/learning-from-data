{
 "cells": [
  {
   "cell_type": "markdown",
   "metadata": {},
   "source": [
    "# Homework 8\n",
    "For this homework, _libsvm_ is needed. The easiest way to install this on _Mac OS X_ is using _Homebrew_ with the following command: `brew install libsvm`.\n",
    "\n",
    "From this homework: questions 7, 8, 9 and 10 will be answered"
   ]
  },
  {
   "cell_type": "code",
   "execution_count": 1,
   "metadata": {
    "collapsed": false
   },
   "outputs": [],
   "source": [
    "from svmutil import *\n",
    "import pandas as pd\n",
    "from sklearn.cross_validation import KFold\n",
    "from collections import Counter\n",
    "import numpy as np"
   ]
  },
  {
   "cell_type": "code",
   "execution_count": 2,
   "metadata": {
    "collapsed": false
   },
   "outputs": [],
   "source": [
    "train = pd.read_table(\"features.train\", sep=\" +\", header=None, engine='python')\n",
    "train.columns = [\"digit\", \"intensity\", \"symmetry\"]\n",
    "test = pd.read_table(\"features.test\", sep=\" +\", header=None, engine='python')\n",
    "test.columns = [\"digit\", \"intensity\", \"symmetry\"]"
   ]
  },
  {
   "cell_type": "code",
   "execution_count": 3,
   "metadata": {
    "collapsed": false
   },
   "outputs": [
    {
     "data": {
      "text/html": [
       "<div>\n",
       "<table border=\"1\" class=\"dataframe\">\n",
       "  <thead>\n",
       "    <tr style=\"text-align: right;\">\n",
       "      <th></th>\n",
       "      <th>digit</th>\n",
       "      <th>intensity</th>\n",
       "      <th>symmetry</th>\n",
       "    </tr>\n",
       "  </thead>\n",
       "  <tbody>\n",
       "    <tr>\n",
       "      <th>0</th>\n",
       "      <td>6</td>\n",
       "      <td>0.341092</td>\n",
       "      <td>-4.528937</td>\n",
       "    </tr>\n",
       "    <tr>\n",
       "      <th>1</th>\n",
       "      <td>5</td>\n",
       "      <td>0.444131</td>\n",
       "      <td>-5.496812</td>\n",
       "    </tr>\n",
       "    <tr>\n",
       "      <th>2</th>\n",
       "      <td>4</td>\n",
       "      <td>0.231002</td>\n",
       "      <td>-2.886750</td>\n",
       "    </tr>\n",
       "    <tr>\n",
       "      <th>3</th>\n",
       "      <td>7</td>\n",
       "      <td>0.200275</td>\n",
       "      <td>-3.534375</td>\n",
       "    </tr>\n",
       "    <tr>\n",
       "      <th>4</th>\n",
       "      <td>3</td>\n",
       "      <td>0.291936</td>\n",
       "      <td>-4.352062</td>\n",
       "    </tr>\n",
       "  </tbody>\n",
       "</table>\n",
       "</div>"
      ],
      "text/plain": [
       "   digit  intensity  symmetry\n",
       "0      6   0.341092 -4.528937\n",
       "1      5   0.444131 -5.496812\n",
       "2      4   0.231002 -2.886750\n",
       "3      7   0.200275 -3.534375\n",
       "4      3   0.291936 -4.352062"
      ]
     },
     "execution_count": 3,
     "metadata": {},
     "output_type": "execute_result"
    }
   ],
   "source": [
    "train.head()"
   ]
  },
  {
   "cell_type": "code",
   "execution_count": 4,
   "metadata": {
    "collapsed": false
   },
   "outputs": [
    {
     "name": "stderr",
     "output_type": "stream",
     "text": [
      "/Users/Jens/anaconda/lib/python3.5/site-packages/pandas/core/generic.py:3117: SettingWithCopyWarning: \n",
      "A value is trying to be set on a copy of a slice from a DataFrame\n",
      "\n",
      "See the caveats in the documentation: http://pandas.pydata.org/pandas-docs/stable/indexing.html#indexing-view-versus-copy\n",
      "  self._update_inplace(new_data)\n"
     ]
    }
   ],
   "source": [
    "filtered = train[(train.digit == 1) | (train.digit == 5)]\n",
    "filtered[\"digit\"].replace(1,float(-1),inplace=True)\n",
    "filtered[\"digit\"].replace(5,float(1),inplace=True)\n",
    "filtered = filtered.reset_index(drop=True)"
   ]
  },
  {
   "cell_type": "code",
   "execution_count": 20,
   "metadata": {
    "collapsed": false
   },
   "outputs": [],
   "source": [
    "possible_C = np.array([0.0001, 0.001, 0.01, 0.1, 1])\n",
    "runs = 100\n",
    "\n",
    "best_run_C = np.zeros(runs)\n",
    "C_val_errors = {c: np.zeros(runs) for c in possible_C}\n",
    "\n",
    "for run in range(runs):\n",
    "    kf = KFold(len(filtered), n_folds=10, shuffle=True)\n",
    "    C_errors = np.zeros(len(possible_C))\n",
    "    for i,C in enumerate(possible_C):\n",
    "        fold_errors = np.zeros(len(kf))\n",
    "        for j, index_pair in enumerate(kf):\n",
    "            train_index, val_index = index_pair\n",
    "            \n",
    "            train_fold = filtered.ix[train_index]\n",
    "            train_x = train_fold[[\"intensity\", \"symmetry\"]].values.tolist()\n",
    "            train_y = train_fold[\"digit\"].values.tolist()\n",
    "            \n",
    "            val_fold = filtered.ix[val_index]\n",
    "            val_x = val_fold[[\"intensity\", \"symmetry\"]].values.tolist()\n",
    "            val_y = val_fold[\"digit\"].values.tolist()\n",
    "            \n",
    "            m = svm_train(train_y, train_x, '-q -t 1 -d 2 -c {} -r 1 -g 1'.format(C))\n",
    "            p_label, p_acc, p_val = svm_predict(val_y, val_x, m, \"-q\")\n",
    "            fold_errors[j] = (100-p_acc[0])/100.\n",
    "            \n",
    "        mean_fold_error = np.mean(fold_errors)\n",
    "        C_val_errors[C][run] = mean_fold_error\n",
    "        C_errors[i] = mean_fold_error\n",
    "    best_run_C[run] = possible_C[np.argmin(C_errors)]"
   ]
  },
  {
   "cell_type": "markdown",
   "metadata": {},
   "source": [
    "## Question 7"
   ]
  },
  {
   "cell_type": "code",
   "execution_count": 21,
   "metadata": {
    "collapsed": false
   },
   "outputs": [
    {
     "name": "stdout",
     "output_type": "stream",
     "text": [
      "Best C:  0.001\n"
     ]
    }
   ],
   "source": [
    "best_c = Counter(best_run_C).most_common(1)[0][0]\n",
    "print(\"Best C: \", best_c)"
   ]
  },
  {
   "cell_type": "markdown",
   "metadata": {},
   "source": [
    "## Question 8"
   ]
  },
  {
   "cell_type": "code",
   "execution_count": 22,
   "metadata": {
    "collapsed": false
   },
   "outputs": [
    {
     "name": "stdout",
     "output_type": "stream",
     "text": [
      "Cross validation error when using C= 0.001 :  0.0047660052262\n"
     ]
    }
   ],
   "source": [
    "print(\"Cross validation error when using C=\", best_c, \": \", np.mean(C_val_errors[best_c]))"
   ]
  },
  {
   "cell_type": "code",
   "execution_count": 23,
   "metadata": {
    "collapsed": false
   },
   "outputs": [
    {
     "name": "stderr",
     "output_type": "stream",
     "text": [
      "/Users/Jens/anaconda/lib/python3.5/site-packages/pandas/core/generic.py:3117: SettingWithCopyWarning: \n",
      "A value is trying to be set on a copy of a slice from a DataFrame\n",
      "\n",
      "See the caveats in the documentation: http://pandas.pydata.org/pandas-docs/stable/indexing.html#indexing-view-versus-copy\n",
      "  self._update_inplace(new_data)\n"
     ]
    }
   ],
   "source": [
    "filtered_test = test[(test.digit == 1) | (test.digit == 5)]\n",
    "filtered_test[\"digit\"].replace(1,float(-1),inplace=True)\n",
    "filtered_test[\"digit\"].replace(5,float(1),inplace=True)\n",
    "filtered_test = filtered_test.reset_index(drop=True)"
   ]
  },
  {
   "cell_type": "code",
   "execution_count": 24,
   "metadata": {
    "collapsed": false
   },
   "outputs": [],
   "source": [
    "possible_C = [0.01, 1, 100, 10**4, 10**6]\n",
    "E_ins = np.zeros(len(possible_C))\n",
    "E_outs = np.zeros(len(possible_C))\n",
    "\n",
    "for i,C in enumerate(possible_C):\n",
    "    train_x = filtered[[\"intensity\", \"symmetry\"]].values.tolist()\n",
    "    train_y = filtered[\"digit\"].values.tolist()\n",
    "    \n",
    "    test_x = filtered_test[[\"intensity\", \"symmetry\"]].values.tolist()\n",
    "    test_y = filtered_test[\"digit\"].values.tolist()\n",
    "    \n",
    "    m = svm_train(train_y, train_x, '-q -t 2 -d 2 -c {} -g 1'.format(C))\n",
    "    train_label, train_acc, train_val = svm_predict(train_y, train_x, m, \"-q\")\n",
    "    test_label, test_acc, test_val = svm_predict(test_y, test_x, m, \"-q\")\n",
    "    \n",
    "    E_ins[i] = (100-train_acc[0])/100.\n",
    "    E_outs[i] = (100-test_acc[0])/100."
   ]
  },
  {
   "cell_type": "markdown",
   "metadata": {},
   "source": [
    "## Question 9"
   ]
  },
  {
   "cell_type": "code",
   "execution_count": 25,
   "metadata": {
    "collapsed": false
   },
   "outputs": [
    {
     "data": {
      "text/plain": [
       "1000000"
      ]
     },
     "execution_count": 25,
     "metadata": {},
     "output_type": "execute_result"
    }
   ],
   "source": [
    "possible_C[np.argmin(E_ins)]"
   ]
  },
  {
   "cell_type": "markdown",
   "metadata": {},
   "source": [
    "## Question 10"
   ]
  },
  {
   "cell_type": "code",
   "execution_count": 26,
   "metadata": {
    "collapsed": false
   },
   "outputs": [
    {
     "data": {
      "text/plain": [
       "100"
      ]
     },
     "execution_count": 26,
     "metadata": {},
     "output_type": "execute_result"
    }
   ],
   "source": [
    "possible_C[np.argmin(E_outs)]"
   ]
  },
  {
   "cell_type": "code",
   "execution_count": null,
   "metadata": {
    "collapsed": true
   },
   "outputs": [],
   "source": []
  }
 ],
 "metadata": {
  "kernelspec": {
   "display_name": "Python 3",
   "language": "python",
   "name": "python3"
  },
  "language_info": {
   "codemirror_mode": {
    "name": "ipython",
    "version": 3
   },
   "file_extension": ".py",
   "mimetype": "text/x-python",
   "name": "python",
   "nbconvert_exporter": "python",
   "pygments_lexer": "ipython3",
   "version": "3.5.0"
  }
 },
 "nbformat": 4,
 "nbformat_minor": 0
}
