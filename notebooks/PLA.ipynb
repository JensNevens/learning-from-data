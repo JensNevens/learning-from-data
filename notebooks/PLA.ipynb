{
 "cells": [
  {
   "cell_type": "markdown",
   "metadata": {},
   "source": [
    "# Perceptron Learning Algorithm (PLA)\n",
    "\n"
   ]
  },
  {
   "cell_type": "code",
   "execution_count": 72,
   "metadata": {
    "collapsed": true
   },
   "outputs": [],
   "source": [
    "import numpy as np\n",
    "import pickle\n",
    "import matplotlib.pyplot as plt"
   ]
  },
  {
   "cell_type": "code",
   "execution_count": 73,
   "metadata": {
    "collapsed": true
   },
   "outputs": [],
   "source": [
    "# Load the data set\n",
    "with open('dataset.pickle', 'rb') as f:\n",
    "    dataset = pickle.load(f)"
   ]
  },
  {
   "cell_type": "code",
   "execution_count": 74,
   "metadata": {
    "collapsed": false
   },
   "outputs": [],
   "source": [
    "# Generate a random target function\n",
    "def generate_target(dataset):\n",
    "    p = np.random.uniform(-1, 1, (2,2))\n",
    "\n",
    "    x = [[z,1] for z in p[:,0]]\n",
    "    y = p[:,1]\n",
    "    a,b = np.linalg.solve(x,y)\n",
    "    \n",
    "    f = lambda x: a*x+b\n",
    "    \n",
    "    targets = np.zeros(len(dataset))\n",
    "    for i,p in enumerate(dataset):\n",
    "        x,y = p\n",
    "        y_line = f(x)\n",
    "        if y <= y_line:\n",
    "            targets[i] = -1\n",
    "        else:\n",
    "            targets[i] = 1\n",
    "    return targets"
   ]
  },
  {
   "cell_type": "code",
   "execution_count": 75,
   "metadata": {
    "collapsed": false
   },
   "outputs": [],
   "source": [
    "# Pick a random data set of the required size\n",
    "def pick_data(dataset, targets, N, dim):\n",
    "    X = np.zeros((N,dim))\n",
    "    Y = np.zeros(N)\n",
    "\n",
    "    for i in range(N):\n",
    "        idx = np.random.randint(0, len(dataset))\n",
    "        X[i] = dataset[idx]\n",
    "        Y[i] = targets[idx]\n",
    "    X = np.insert(X, 0, 1, axis=1)\n",
    "    return X,Y"
   ]
  },
  {
   "cell_type": "code",
   "execution_count": 76,
   "metadata": {
    "collapsed": false
   },
   "outputs": [],
   "source": [
    "# Check if any points are still missclassified\n",
    "def mistakes(X, Y, w):\n",
    "    output = [np.sign(np.dot(X[i], w)) == Y[i] for i in range(0, len(X))]\n",
    "    if False in output:\n",
    "        return True\n",
    "    else:\n",
    "        return False"
   ]
  },
  {
   "cell_type": "code",
   "execution_count": 77,
   "metadata": {
    "collapsed": true
   },
   "outputs": [],
   "source": [
    "# Generate a cross-validation set\n",
    "def cross_val_set(dataset, targets, N, dim):\n",
    "    K = np.round(N/3)\n",
    "    X_cv = np.zeros((K, dim))\n",
    "    Y_cv = np.zeros(K)\n",
    "    for i in range(int(K)):\n",
    "        idx = np.random.randint(0, len(dataset))\n",
    "        X_cv[i] = dataset[idx]\n",
    "        Y_cv[i] = targets[idx]\n",
    "    X_cv = np.insert(X_cv, 0, 1, axis=1)\n",
    "    return X_cv, Y_cv"
   ]
  },
  {
   "cell_type": "code",
   "execution_count": 78,
   "metadata": {
    "collapsed": false
   },
   "outputs": [],
   "source": [
    "# Main PLA Algorithm\n",
    "def PLA(iterations, N, dim):\n",
    "    convergence = np.zeros(iterations)\n",
    "    error_rates = np.zeros(iterations)\n",
    "\n",
    "    for i in range(iterations):\n",
    "        w = np.zeros(dim + 1)\n",
    "        targets = generate_target(dataset)\n",
    "        X,Y = pick_data(dataset, targets, N, dim)\n",
    "        X_cv,Y_cv = cross_val_set(dataset, targets, N, dim)\n",
    "        ctr = 0\n",
    "        while(mistakes(X,Y,w)): \n",
    "            ctr += 1\n",
    "            # dot product to check for mistakes\n",
    "            output = [np.sign(np.dot(X[i], w)) == Y[i] for i in range(0, len(X))]\n",
    "            # find index of mistake (chosen randomly)\n",
    "            n = np.random.randint(0, len(X))\n",
    "            while(output[n]): # if output is true here, choose again\n",
    "                n = np.random.randint(0, len(X))\n",
    "            # once we have found a mistake, update\n",
    "            w = w + Y[n]*X[n]\n",
    "        convergence[i] = ctr\n",
    "        cross_val = [np.sign(np.dot(X_cv[i], w)) == Y_cv[i] for i in range(0, len(X_cv))]\n",
    "        # Error = size of cross-val set - number of correctly classified points\n",
    "        error = len(X_cv) - np.sum(cross_val)\n",
    "        error_rate = error / len(cross_val)\n",
    "        error_rates[i] = error_rate\n",
    "\n",
    "    print(\"PLA run for\", iterations, \"iterations\")\n",
    "    print(\"Dataset of size\", N)\n",
    "    print(\"Average number of iterations needed for convergence is\", np.mean(convergence))\n",
    "    print(\"Average error rate is\", np.mean(error_rates))"
   ]
  },
  {
   "cell_type": "code",
   "execution_count": 79,
   "metadata": {
    "collapsed": true
   },
   "outputs": [],
   "source": [
    "# Run the PLA algorithm for X iterations, with Y data points\n",
    "def main(iterations, N):\n",
    "    dim = dataset.shape[1]\n",
    "    PLA(iterations, N, dim)"
   ]
  },
  {
   "cell_type": "code",
   "execution_count": 83,
   "metadata": {
    "collapsed": false
   },
   "outputs": [
    {
     "name": "stdout",
     "output_type": "stream",
     "text": [
      "PLA run for 1000 iterations\n",
      "Dataset of size 10\n",
      "Average number of iterations needed for convergence is 11.113\n",
      "Average error rate is 0.111333333333\n"
     ]
    },
    {
     "name": "stderr",
     "output_type": "stream",
     "text": [
      "/Users/Jens/anaconda/lib/python3.5/site-packages/ipykernel/__main__.py:3: DeprecationWarning: using a non-integer number instead of an integer will result in an error in the future\n",
      "  app.launch_new_instance()\n",
      "/Users/Jens/anaconda/lib/python3.5/site-packages/ipykernel/__main__.py:4: DeprecationWarning: using a non-integer number instead of an integer will result in an error in the future\n"
     ]
    }
   ],
   "source": [
    "main(1000,10)"
   ]
  },
  {
   "cell_type": "code",
   "execution_count": 82,
   "metadata": {
    "collapsed": false
   },
   "outputs": [
    {
     "name": "stdout",
     "output_type": "stream",
     "text": [
      "PLA run for 1000 iterations\n",
      "Dataset of size 100\n",
      "Average number of iterations needed for convergence is 98.017\n",
      "Average error rate is 0.0134545454545\n"
     ]
    },
    {
     "name": "stderr",
     "output_type": "stream",
     "text": [
      "/Users/Jens/anaconda/lib/python3.5/site-packages/ipykernel/__main__.py:3: DeprecationWarning: using a non-integer number instead of an integer will result in an error in the future\n",
      "  app.launch_new_instance()\n",
      "/Users/Jens/anaconda/lib/python3.5/site-packages/ipykernel/__main__.py:4: DeprecationWarning: using a non-integer number instead of an integer will result in an error in the future\n"
     ]
    }
   ],
   "source": [
    "main(1000,100)"
   ]
  }
 ],
 "metadata": {
  "kernelspec": {
   "display_name": "Python 3",
   "language": "python",
   "name": "python3"
  },
  "language_info": {
   "codemirror_mode": {
    "name": "ipython",
    "version": 3
   },
   "file_extension": ".py",
   "mimetype": "text/x-python",
   "name": "python",
   "nbconvert_exporter": "python",
   "pygments_lexer": "ipython3",
   "version": "3.5.0"
  }
 },
 "nbformat": 4,
 "nbformat_minor": 0
}
